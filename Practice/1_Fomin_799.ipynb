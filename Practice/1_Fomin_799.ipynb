{
 "metadata": {
  "language_info": {
   "codemirror_mode": {
    "name": "ipython",
    "version": 3
   },
   "file_extension": ".py",
   "mimetype": "text/x-python",
   "name": "python",
   "nbconvert_exporter": "python",
   "pygments_lexer": "ipython3",
   "version": "3.7.4-final"
  },
  "orig_nbformat": 2,
  "kernelspec": {
   "name": "Python 3.7.4 64-bit ('base': conda)",
   "display_name": "Python 3.7.4 64-bit ('base': conda)",
   "metadata": {
    "interpreter": {
     "hash": "b3ba2566441a7c06988d0923437866b63cedc61552a5af99d1f4fb67d367b25f"
    }
   }
  }
 },
 "nbformat": 4,
 "nbformat_minor": 2,
 "cells": [
  {
   "source": [
    "# 2 Прямые методы решения линейных систем \n",
    "\n",
    "## 2.4 QR-разложение"
   ],
   "cell_type": "markdown",
   "metadata": {}
  },
  {
   "cell_type": "code",
   "execution_count": 31,
   "metadata": {},
   "outputs": [],
   "source": [
    "import numpy as np\n",
    "\n",
    "def gramm_schmidt(A):\n",
    "    p = np.zeros(A.shape)\n",
    "    q = np.zeros(A.shape)\n",
    "    r = np.zeros((A.shape[1], A.shape[1]))\n",
    "    for j in range(A.shape[1]):\n",
    "        p[:, j] = A[:, j]\n",
    "        for i in range(j):\n",
    "            # p[:, j] -= q[:, i] * np.inner(p[:, j], q[:, i])\n",
    "            # Или, если скалярным произведением пользоваться нельзя,..\n",
    "            # np.sum() -- точно можно!\n",
    "            p[:, j] -= q[:, i] * np.sum(p[:, j] * q[:, i])\n",
    "            # r[i][j] = np.inner(A[:, j], q[:, i])\n",
    "            r[i][j] = np.sum(A[:, j] * q[:, i])\n",
    "        # q[:, j] = p[:, j] / np.linalg.norm(p[:, j])\n",
    "        q[:, j] = p[:, j] / np.sqrt(np.sum(p[:, j] * p[:, j]))\n",
    "        # r[j][j] = np.inner(A[:, j], q[:, j])\n",
    "        r[j][j] = np.sum(A[:, j] * q[:, j])\n",
    "    return q, r\n",
    "\n",
    "def solve_triangular(M, b):\n",
    "    '''\n",
    "    reverse-podstanovka  \n",
    "    M should be an upper-triangular matrix.   \n",
    "    '''\n",
    "    n = b.shape[0]\n",
    "    x = np.ones(n)\n",
    "    for i in range(n)[::-1]:\n",
    "        x[i] = b[i] / M[i][i]\n",
    "        b -= M.T[i] * x[i]\n",
    "    return x\n",
    "\n",
    "def solve(A, b):\n",
    "    '''\n",
    "    qr-decomposition + least-squares\n",
    "    '''\n",
    "    q, r = gramm_schmidt(A)\n",
    "    # Это вот тут можно матрицу умножать, да?\n",
    "    # (q не треугольная, а всего лишь ортогональная)\n",
    "    # нет тут никакой магии в умножении\n",
    "    x = solve_triangular(r, q.T @ b)\n",
    "    return q, r, x\n",
    "\n",
    "def check_solve_on_random_matrix(m=100, n=100):\n",
    "    A = np.random.rand(m, n)\n",
    "    x = np.random.rand(n)\n",
    "    b = A @ x\n",
    "    q, r, x_calculated = solve(A, b)\n",
    "\n",
    "    if (np.allclose(A, q @ r)):\n",
    "        print('QR-разложение найдено верно')\n",
    "    else:\n",
    "        print('QR-разложение найдено НЕВЕРНО')\n",
    "    print('Норма разницы между полученным решением и ответом = ', np.linalg.norm(x_calculated - x))\n",
    "\n",
    "    x_np_lstsq = np.linalg.lstsq(A, b)[0]\n",
    "    print('Норма разницы между полученным решением и ответом lstsq = ', np.linalg.norm(x_np_lstsq - x_calculated))\n",
    "    \n",
    "    if n == m:\n",
    "        x_np_solve = np.linalg.solve(A, b)\n",
    "        print('Норма разницы между полученным решением и ответом numpy = ', np.linalg.norm(x_np_solve - x_calculated))"
   ]
  },
  {
   "cell_type": "code",
   "execution_count": 32,
   "metadata": {
    "tags": []
   },
   "outputs": [
    {
     "output_type": "stream",
     "name": "stdout",
     "text": [
      "QR-разложение найдено верно\nНорма разницы между полученным решением и ответом =  2.7937897218547425e-11\nНорма разницы между полученным решением и ответом lstsq =  2.796505778416829e-11\nНорма разницы между полученным решением и ответом numpy =  2.7842159854944645e-11\n"
     ]
    }
   ],
   "source": [
    "check_solve_on_random_matrix()"
   ]
  },
  {
   "cell_type": "code",
   "execution_count": 33,
   "metadata": {},
   "outputs": [
    {
     "output_type": "stream",
     "name": "stdout",
     "text": [
      "QR-разложение найдено верно\nНорма разницы между полученным решением и ответом =  7.287103065500323e-13\nНорма разницы между полученным решением и ответом lstsq =  7.170992963792866e-13\n"
     ]
    }
   ],
   "source": [
    "# И на прямоугольной...\n",
    "check_solve_on_random_matrix(m=150)"
   ]
  },
  {
   "cell_type": "code",
   "execution_count": null,
   "metadata": {},
   "outputs": [],
   "source": []
  }
 ]
}